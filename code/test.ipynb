{
 "metadata": {
  "language_info": {
   "codemirror_mode": {
    "name": "ipython",
    "version": 3
   },
   "file_extension": ".py",
   "mimetype": "text/x-python",
   "name": "python",
   "nbconvert_exporter": "python",
   "pygments_lexer": "ipython3",
   "version": 3
  },
  "orig_nbformat": 2
 },
 "nbformat": 4,
 "nbformat_minor": 2,
 "cells": [
  {
   "cell_type": "code",
   "execution_count": null,
   "metadata": {},
   "outputs": [],
   "source": [
    "import pandas as pd\n",
    "\n",
    "File_Path = \"C:/Users/10559/Desktop/B/预处理/\"\n",
    "\n",
    "File_name_r = ['附件三_异常值0(填充1).csv', '附件三_异常值0(填充2).csv']\n",
    "File_name_w = ['附件三_异常值0(填充1)1.csv', '附件三_异常值0(填充2)2.csv']\n"
   ]
  }
 ]
}